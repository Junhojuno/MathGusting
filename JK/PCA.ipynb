{
 "cells": [
  {
   "cell_type": "markdown",
   "metadata": {},
   "source": [
    "# 주성분 분석(PCA)"
   ]
  },
  {
   "cell_type": "markdown",
   "metadata": {},
   "source": [
    "1. 고차원 데이터 -> 저차원의 데이터 (차원축소)\n",
    "\n",
    "2. 단순히 차원을 하나 없애버리면 서로 다른 데이터(벡터)가 같은 정보로 취급될 수 있다. (정보의 손실) -> ex) (1,1,0), (1,1,100) => (1,1), (1,1) -> 정보의 손실을 줄이기 위해 원래 데이터의 차이(분산)를 최대한 보존할 수 있는 기저축을 찾는다. "
   ]
  },
  {
   "cell_type": "markdown",
   "metadata": {},
   "source": [
    "# 1."
   ]
  },
  {
   "cell_type": "markdown",
   "metadata": {},
   "source": [
    "- 차원의 저주 -> 데이터의 차원이 너무 크면 불필요한 데이터들이 늘어남에 따라 중요한 데이터를 포함하고 있음에도 불구하고 쓰레기데이터가 된다. 혹은 단순이 데이터 차원이 너무 커서 다루기 힘들수도 있다.\n",
    "\n",
    "\n",
    "- 단순히 유효한 데이터로 차원을 줄이는게 목적이라면 특정 특징데이터를 선별하여 그 차원만 남기는 방법이 있다(feature selection). -> correlation, importance조사 등.\n",
    "\n",
    "\n",
    "- PCA는 줄어든 차원을 뱉는 함수를 찾는 것(feature extraction) -> ex) 비만인지 아닌지 판단하는데 필요한 요건을 대표적으로 키, 몸무게 2가지가 있지만 이 데이터들의 계산(선형조합)으로 BMI라는 한가지 수치로 나타낼 수 있다. (2차원 -> 1차원)"
   ]
  },
  {
   "cell_type": "markdown",
   "metadata": {},
   "source": [
    "# 2."
   ]
  },
  {
   "cell_type": "markdown",
   "metadata": {},
   "source": [
    "- 위의 1-3을 통해 PCA의 목적은 분산을 최소로 하는 선형변환행렬을 찾는 것으로 이해할 수 있다.\n",
    "\n",
    "\n",
    "- 변환된 행렬의 분산이 최대가 되게 하는 선형변환행렬은 변환하기 전 행렬의 공분산행렬을 이용해 구한 고유벡터이다. 공분산행렬의 고유벡터(주성분->Principal Component)\n",
    "\n",
    "\n",
    "- 서로 다른 주성분끼리는 서로 직교하기 때문에 PCA를 통해 변환된 행렬데이터들은 서로 무상관이 된다.\n",
    "\n",
    "\n",
    "- 공분산행렬의 고유값들의 합 = 분산"
   ]
  },
  {
   "cell_type": "markdown",
   "metadata": {},
   "source": [
    "# 식"
   ]
  },
  {
   "cell_type": "markdown",
   "metadata": {},
   "source": [
    "# 참고"
   ]
  },
  {
   "cell_type": "markdown",
   "metadata": {},
   "source": [
    "- https://wikidocs.net/7646\n",
    "- https://ko.wikipedia.org/wiki/%EC%A3%BC%EC%84%B1%EB%B6%84_%EB%B6%84%EC%84%9D"
   ]
  }
 ],
 "metadata": {
  "kernelspec": {
   "display_name": "Python 3",
   "language": "python",
   "name": "python3"
  },
  "language_info": {
   "codemirror_mode": {
    "name": "ipython",
    "version": 3
   },
   "file_extension": ".py",
   "mimetype": "text/x-python",
   "name": "python",
   "nbconvert_exporter": "python",
   "pygments_lexer": "ipython3",
   "version": "3.6.5"
  }
 },
 "nbformat": 4,
 "nbformat_minor": 2
}
