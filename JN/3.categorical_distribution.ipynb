{
 "cells": [
  {
   "cell_type": "markdown",
   "metadata": {},
   "source": [
    "## 카테고리 분포 (Categorical Distribution)\n",
    "\n",
    "#### 카테고리 확률변수?\n",
    ": one-hot vector로 표현할 수 있다. <br>\n",
    ": 예를 들어, 눈이 2인 주사위면이 나왓다고 할때, 이때 카테고리 RV = [0,1,0,0,0,0]이 된다. <br>\n",
    ": RV안의 각 원소들은 베르누이 분포를 따르고, 각각 자신들만의 모수를 갖는다는 점을 유의하자.\n",
    "\n",
    "#### 카테고리 확률변수의 pmf\n",
    "$$Cat(x;\\theta) = \\theta_{1}^{x_1}\\theta_{2}^{x_2}......\\theta_{N}^{x_N} \\\\ = \\prod_{i=1}^N \\theta_{i}^{x_i}$$\n",
    "\n",
    "#### 카테고리 분포의 모멘트\n",
    "$$E[X_k] = \\theta_k \\\\ Var[X] = \\theta_k(1-\\theta_k)$$"
   ]
  },
  {
   "cell_type": "code",
   "execution_count": 1,
   "metadata": {},
   "outputs": [],
   "source": [
    "# 코드로 보자\n",
    "mu = np.array([1/6]*6) # 각각의 모수를 정해준다 : 1/6\n",
    "rv = sp.stats.multinomial(1, mu)"
   ]
  },
  {
   "cell_type": "code",
   "execution_count": 2,
   "metadata": {},
   "outputs": [
    {
     "data": {
      "text/plain": [
       "0.0"
      ]
     },
     "execution_count": 2,
     "metadata": {},
     "output_type": "execute_result"
    }
   ],
   "source": [
    "rv.pmf(np.arange(1,7)) # one-hot으로 넣어줘야한다."
   ]
  },
  {
   "cell_type": "code",
   "execution_count": 14,
   "metadata": {},
   "outputs": [
    {
     "data": {
      "text/plain": [
       "array([0.16666667, 0.16666667, 0.16666667, 0.16666667, 0.16666667,\n",
       "       0.16666667])"
      ]
     },
     "execution_count": 14,
     "metadata": {},
     "output_type": "execute_result"
    }
   ],
   "source": [
    "xx = pd.get_dummies(np.arange(1,7))\n",
    "rv.pmf(xx.values)"
   ]
  },
  {
   "cell_type": "code",
   "execution_count": 15,
   "metadata": {},
   "outputs": [
    {
     "name": "stdout",
     "output_type": "stream",
     "text": [
      "Malgun Gothic\n"
     ]
    }
   ],
   "source": [
    "# 한글 깨짐 방지\n",
    "import matplotlib.font_manager as fm\n",
    "font_location = \"C:\\\\Windows\\Fonts\\malgunbd.ttf\"\n",
    "font_name = fm.FontProperties(fname=font_location).get_name()\n",
    "print(font_name)\n",
    "mpl.rc(\"font\", family=font_name)"
   ]
  },
  {
   "cell_type": "code",
   "execution_count": 23,
   "metadata": {},
   "outputs": [
    {
     "data": {
      "image/png": "[encoded data removed]",
      "text/plain": [
       "<Figure size 432x288 with 1 Axes>"
      ]
     },
     "metadata": {},
     "output_type": "display_data"
    }
   ],
   "source": [
    "plt.bar(np.arange(1,7), rv.pmf(xx.values), color='orange')\n",
    "plt.ylabel(\"P(x)\")\n",
    "plt.xlabel(\"표본값\")\n",
    "plt.title(\"카테고리 분포의 pmf\")\n",
    "plt.show()"
   ]
  },
  {
   "cell_type": "code",
   "execution_count": 17,
   "metadata": {},
   "outputs": [
    {
     "data": {
      "text/plain": [
       "array([[0, 0, 0, 0, 0, 1],\n",
       "       [0, 0, 0, 0, 1, 0],\n",
       "       [0, 0, 0, 1, 0, 0],\n",
       "       [0, 0, 0, 0, 0, 1],\n",
       "       [0, 1, 0, 0, 0, 0]])"
      ]
     },
     "execution_count": 17,
     "metadata": {},
     "output_type": "execute_result"
    }
   ],
   "source": [
    "np.random.seed(1)\n",
    "X = rv.rvs(100)\n",
    "X[:5]"
   ]
  },
  {
   "cell_type": "code",
   "execution_count": 27,
   "metadata": {},
   "outputs": [
    {
     "data": {
      "image/png": "[encoded data removed]",
      "text/plain": [
       "<Figure size 432x288 with 1 Axes>"
      ]
     },
     "metadata": {},
     "output_type": "display_data"
    }
   ],
   "source": [
    "y = X.sum(axis=0) / float(len(X)) # 위에서 아래로 쭉 더함\n",
    "plt.bar(np.arange(1, 7), y, color='purple')\n",
    "plt.title(\"카테고리 분포의 시뮬레이션 결과\")\n",
    "plt.xlabel(\"표본값\")\n",
    "plt.ylabel(\"비율\")\n",
    "plt.show()"
   ]
  }
 ],
 "metadata": {
  "kernelspec": {
   "display_name": "Python 3",
   "language": "python",
   "name": "python3"
  },
  "language_info": {
   "codemirror_mode": {
    "name": "ipython",
    "version": 3
   },
   "file_extension": ".py",
   "mimetype": "text/x-python",
   "name": "python",
   "nbconvert_exporter": "python",
   "pygments_lexer": "ipython3",
   "version": "3.6.6"
  }
 },
 "nbformat": 4,
 "nbformat_minor": 2
}
