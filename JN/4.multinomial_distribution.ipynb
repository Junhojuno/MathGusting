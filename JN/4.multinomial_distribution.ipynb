{
 "cells": [
  {
   "cell_type": "markdown",
   "metadata": {},
   "source": [
    "## 다항분포(Multinomial Distribution)\n",
    "\n",
    "#### 다항분포?\n",
    ": 독립적인 카테고리 분포를 여러번 시도하여 나온 횟수 <br>\n",
    ": 주사위의 각 면이 나온 횟수 <br>\n",
    ": 두 번 던졌는데, 두 번 모두 눈2가 나왔다 = (0,2,0,0,0,0)\n",
    "\n",
    "#### 다항분포의 pmf\n",
    ": $x$는 (0,2,0,0,0,0)와 같은 Vector가 된다.\n",
    "$$Mu(x;N,\\theta) = {N \\choose x} \\prod_{k=1}^K \\theta_k^{x_k} = {N \\choose {x_1,....,x_N}} \\prod_{k=1}^K \\theta_k^{x_k}$$\n",
    "$${N \\choose {x_1,....,x_N}} = \\frac{N!}{x_1! x_2! .... x_N!}$$\n",
    "\n",
    "#### 다항분포의 모멘트\n",
    ": 각 주사위 눈금마다의 평균과 분산, 꼴이 이항분포의 모멘트와 유사하다.\n",
    "$$E[x_k] = N\\theta_k \\\\ Var[x_k] = N\\theta_k(1-\\theta_k)$$"
   ]
  },
  {
   "cell_type": "code",
   "execution_count": 1,
   "metadata": {},
   "outputs": [],
   "source": [
    "N = 30\n",
    "theta = [0.1, 0.1, 0.1, 0.1, 0.3, 0.3] # 각 눈이 나올 확률 지정\n",
    "rv = sp.stats.multinomial(N, theta) # 다항분포의 확률변수 생성"
   ]
  },
  {
   "cell_type": "code",
   "execution_count": 2,
   "metadata": {},
   "outputs": [
    {
     "data": {
      "text/plain": [
       "array([[ 3,  4,  3,  3,  8,  9],\n",
       "       [ 3,  3,  5,  6,  6,  7],\n",
       "       [ 4,  3,  3,  5,  5, 10],\n",
       "       [ 1,  0,  5,  5, 12,  7],\n",
       "       [ 7,  4,  2,  3,  5,  9]])"
      ]
     },
     "execution_count": 2,
     "metadata": {},
     "output_type": "execute_result"
    }
   ],
   "source": [
    "np.random.seed(0)\n",
    "X = rv.rvs(100) # 100개의 sampling\n",
    "X[:5] # 그 중 5개만 보자"
   ]
  },
  {
   "cell_type": "code",
   "execution_count": 4,
   "metadata": {},
   "outputs": [
    {
     "name": "stdout",
     "output_type": "stream",
     "text": [
      "Malgun Gothic\n"
     ]
    }
   ],
   "source": [
    "# 한글 깨짐 방지\n",
    "import matplotlib.font_manager as fm\n",
    "font_location = \"C:\\\\Windows\\Fonts\\malgunbd.ttf\"\n",
    "font_name = fm.FontProperties(fname=font_location).get_name()\n",
    "print(font_name)\n",
    "mpl.rc(\"font\", family=font_name)"
   ]
  },
  {
   "cell_type": "code",
   "execution_count": 5,
   "metadata": {},
   "outputs": [
    {
     "data": {
      "image/png": "[encoded data removed]",
      "text/plain": [
       "<Figure size 432x288 with 1 Axes>"
      ]
     },
     "metadata": {},
     "output_type": "display_data"
    }
   ],
   "source": [
    "plt.boxplot(X) # 각 눈마다 나온 횟수의 분포를 보기위해 boxplot\n",
    "plt.title(\"다항 분포의 시뮬레이션 결과\")\n",
    "plt.xlabel(\"class\")\n",
    "plt.ylabel(\"binomial\")\n",
    "plt.show()"
   ]
  },
  {
   "cell_type": "markdown",
   "metadata": {},
   "source": [
    "세로축에서 봤을 때, 각 눈이 나왔는지 안나왔는지(0 또는 1)와 나왔다면 몇번나왔는지로 볼 수있기때문에 이항분포(binomial)로 표기"
   ]
  }
 ],
 "metadata": {
  "kernelspec": {
   "display_name": "Python 3",
   "language": "python",
   "name": "python3"
  },
  "language_info": {
   "codemirror_mode": {
    "name": "ipython",
    "version": 3
   },
   "file_extension": ".py",
   "mimetype": "text/x-python",
   "name": "python",
   "nbconvert_exporter": "python",
   "pygments_lexer": "ipython3",
   "version": "3.6.6"
  }
 },
 "nbformat": 4,
 "nbformat_minor": 2
}
